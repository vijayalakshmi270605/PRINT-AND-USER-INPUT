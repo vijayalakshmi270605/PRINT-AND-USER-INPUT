{
 "cells": [
  {
   "cell_type": "markdown",
   "id": "b4fd01cc",
   "metadata": {},
   "source": [
    "# V.VIJAYA LAKSHMI"
   ]
  },
  {
   "cell_type": "markdown",
   "id": "4b6cdf6f",
   "metadata": {},
   "source": [
    "# PRINT AND USER INPUT"
   ]
  },
  {
   "cell_type": "code",
   "execution_count": 1,
   "id": "1d80aebf",
   "metadata": {},
   "outputs": [],
   "source": [
    "A=10"
   ]
  },
  {
   "cell_type": "code",
   "execution_count": 2,
   "id": "78cc5e19",
   "metadata": {},
   "outputs": [
    {
     "data": {
      "text/plain": [
       "10"
      ]
     },
     "execution_count": 2,
     "metadata": {},
     "output_type": "execute_result"
    }
   ],
   "source": [
    "A"
   ]
  },
  {
   "cell_type": "code",
   "execution_count": 6,
   "id": "55a900ea",
   "metadata": {},
   "outputs": [
    {
     "name": "stdout",
     "output_type": "stream",
     "text": [
      "10\n"
     ]
    }
   ],
   "source": [
    "print(A)"
   ]
  },
  {
   "cell_type": "markdown",
   "id": "1a96c4e2",
   "metadata": {},
   "source": [
    "# DOT FORMAT PRINT"
   ]
  },
  {
   "cell_type": "code",
   "execution_count": 9,
   "id": "ddc8032d",
   "metadata": {},
   "outputs": [
    {
     "name": "stdout",
     "output_type": "stream",
     "text": [
      "the value of 'A' is 10\n"
     ]
    }
   ],
   "source": [
    "print(\"the value of 'A' is {}\".format(A))"
   ]
  },
  {
   "cell_type": "code",
   "execution_count": 16,
   "id": "67882a56",
   "metadata": {},
   "outputs": [],
   "source": [
    "NAME='vijayalakshmi'"
   ]
  },
  {
   "cell_type": "code",
   "execution_count": 18,
   "id": "c721480f",
   "metadata": {},
   "outputs": [
    {
     "data": {
      "text/plain": [
       "'vijayalakshmi'"
      ]
     },
     "execution_count": 18,
     "metadata": {},
     "output_type": "execute_result"
    }
   ],
   "source": [
    "NAME"
   ]
  },
  {
   "cell_type": "code",
   "execution_count": 22,
   "id": "995b419b",
   "metadata": {},
   "outputs": [
    {
     "name": "stdout",
     "output_type": "stream",
     "text": [
      "MY NAME IS vijayalakshmi\n"
     ]
    }
   ],
   "source": [
    "print(\"MY NAME IS {}\".format(NAME))"
   ]
  },
  {
   "cell_type": "code",
   "execution_count": 21,
   "id": "5438033a",
   "metadata": {},
   "outputs": [
    {
     "name": "stdout",
     "output_type": "stream",
     "text": [
      "MYSELF I AM vijayalakshmi\n"
     ]
    }
   ],
   "source": [
    "print(\"MYSELF I AM {}\".format(NAME))"
   ]
  },
  {
   "cell_type": "code",
   "execution_count": 30,
   "id": "4ec708d9",
   "metadata": {},
   "outputs": [
    {
     "name": "stdout",
     "output_type": "stream",
     "text": [
      "my name is vijayalakshmi.i am in pmist\n"
     ]
    }
   ],
   "source": [
    "print(\"my name is {name}.i am in {college}\".format(name=\"vijayalakshmi\",college=\"pmist\"))"
   ]
  },
  {
   "cell_type": "code",
   "execution_count": 34,
   "id": "294090d1",
   "metadata": {},
   "outputs": [
    {
     "name": "stdout",
     "output_type": "stream",
     "text": [
      "myself  vijayalakshmi.i am doing my bachelors in pmist.next my goal is become to be an IT professional.my favourite hobby is listening music and travelling\n"
     ]
    }
   ],
   "source": [
    "print(\"myself  {name}.i am doing my bachelors in {college}.next my goal is become to be an {goal}.my favourite hobby is {hobby}\".format(name=\"vijayalakshmi\",college=\"pmist\",goal=\"IT professional\",hobby=\"listening music and travelling\"))"
   ]
  },
  {
   "cell_type": "code",
   "execution_count": 35,
   "id": "04eb3768",
   "metadata": {},
   "outputs": [
    {
     "name": "stdout",
     "output_type": "stream",
     "text": [
      "myself vijayalakshmi.i am doing my bachelors in pmist.next my goal is become to be an IT professional.my favourite hobby is listening music and travelling\n"
     ]
    }
   ],
   "source": [
    "print(\"myself {}.i am doing my bachelors in {}.next my goal is become to be an {}.my favourite hobby is {}\".format(\"vijayalakshmi\",\"pmist\",\"IT professional\",\"listening music and travelling\"))"
   ]
  },
  {
   "cell_type": "markdown",
   "id": "b9389da2",
   "metadata": {},
   "source": [
    "# FORMAT PRINT"
   ]
  },
  {
   "cell_type": "markdown",
   "id": "ae835644",
   "metadata": {},
   "source": [
    "# F-PRINT"
   ]
  },
  {
   "cell_type": "code",
   "execution_count": 39,
   "id": "bdf2ee40",
   "metadata": {},
   "outputs": [
    {
     "name": "stdout",
     "output_type": "stream",
     "text": [
      "my register number is 122011012836.i am pursuing artificial intellingence\n"
     ]
    }
   ],
   "source": [
    "print(f\"my register number is {'122011012836'}.i am pursuing {'artificial intellingence'}\")"
   ]
  },
  {
   "cell_type": "markdown",
   "id": "2f735f4b",
   "metadata": {},
   "source": [
    "# TASK 1"
   ]
  },
  {
   "cell_type": "code",
   "execution_count": 41,
   "id": "c51510f4",
   "metadata": {},
   "outputs": [
    {
     "name": "stdout",
     "output_type": "stream",
     "text": [
      "she sell sea shell in sea shore\n"
     ]
    }
   ],
   "source": [
    "print(f\"she sell {'sea shell'} in sea shore\")"
   ]
  },
  {
   "cell_type": "markdown",
   "id": "eaa34e92",
   "metadata": {},
   "source": [
    "# USER INPUT"
   ]
  },
  {
   "cell_type": "code",
   "execution_count": 42,
   "id": "1a06207c",
   "metadata": {},
   "outputs": [
    {
     "name": "stdout",
     "output_type": "stream",
     "text": [
      "6383903657\n"
     ]
    },
    {
     "data": {
      "text/plain": [
       "'6383903657'"
      ]
     },
     "execution_count": 42,
     "metadata": {},
     "output_type": "execute_result"
    }
   ],
   "source": [
    "input()"
   ]
  },
  {
   "cell_type": "code",
   "execution_count": 43,
   "id": "962f47ab",
   "metadata": {},
   "outputs": [
    {
     "name": "stdout",
     "output_type": "stream",
     "text": [
      "6383903657\n"
     ]
    }
   ],
   "source": [
    "var=input()"
   ]
  },
  {
   "cell_type": "code",
   "execution_count": 44,
   "id": "f023ec3f",
   "metadata": {},
   "outputs": [
    {
     "data": {
      "text/plain": [
       "'6383903657'"
      ]
     },
     "execution_count": 44,
     "metadata": {},
     "output_type": "execute_result"
    }
   ],
   "source": [
    "var"
   ]
  },
  {
   "cell_type": "code",
   "execution_count": 45,
   "id": "95d8ee56",
   "metadata": {},
   "outputs": [
    {
     "name": "stdout",
     "output_type": "stream",
     "text": [
      "63\n"
     ]
    },
    {
     "data": {
      "text/plain": [
       "'63'"
      ]
     },
     "execution_count": 45,
     "metadata": {},
     "output_type": "execute_result"
    }
   ],
   "source": [
    "input()"
   ]
  },
  {
   "cell_type": "code",
   "execution_count": 46,
   "id": "a1ff5a21",
   "metadata": {},
   "outputs": [
    {
     "name": "stdout",
     "output_type": "stream",
     "text": [
      "enter your mobile number6383903657\n"
     ]
    }
   ],
   "source": [
    "var=input(\"enter your mobile number\")"
   ]
  },
  {
   "cell_type": "code",
   "execution_count": 47,
   "id": "084bbd3d",
   "metadata": {},
   "outputs": [
    {
     "data": {
      "text/plain": [
       "'6383903657'"
      ]
     },
     "execution_count": 47,
     "metadata": {},
     "output_type": "execute_result"
    }
   ],
   "source": [
    "var"
   ]
  },
  {
   "cell_type": "code",
   "execution_count": 48,
   "id": "abbed78e",
   "metadata": {},
   "outputs": [
    {
     "data": {
      "text/plain": [
       "str"
      ]
     },
     "execution_count": 48,
     "metadata": {},
     "output_type": "execute_result"
    }
   ],
   "source": [
    "type(var)"
   ]
  },
  {
   "cell_type": "code",
   "execution_count": 49,
   "id": "9258d9de",
   "metadata": {},
   "outputs": [
    {
     "name": "stdout",
     "output_type": "stream",
     "text": [
      "638\n"
     ]
    }
   ],
   "source": [
    "var1=int(input())"
   ]
  },
  {
   "cell_type": "code",
   "execution_count": 50,
   "id": "b78f82a3",
   "metadata": {},
   "outputs": [
    {
     "data": {
      "text/plain": [
       "int"
      ]
     },
     "execution_count": 50,
     "metadata": {},
     "output_type": "execute_result"
    }
   ],
   "source": [
    "type(var1)"
   ]
  },
  {
   "cell_type": "code",
   "execution_count": null,
   "id": "c26fc575",
   "metadata": {},
   "outputs": [],
   "source": []
  }
 ],
 "metadata": {
  "kernelspec": {
   "display_name": "Python 3 (ipykernel)",
   "language": "python",
   "name": "python3"
  },
  "language_info": {
   "codemirror_mode": {
    "name": "ipython",
    "version": 3
   },
   "file_extension": ".py",
   "mimetype": "text/x-python",
   "name": "python",
   "nbconvert_exporter": "python",
   "pygments_lexer": "ipython3",
   "version": "3.9.17"
  }
 },
 "nbformat": 4,
 "nbformat_minor": 5
}
